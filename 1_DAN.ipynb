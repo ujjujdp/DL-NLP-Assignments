{
 "cells": [
  {
   "cell_type": "code",
   "execution_count": 4,
   "metadata": {
    "id": "hS7TXDxY0Mjx"
   },
   "outputs": [],
   "source": [
    "# Importing necessary packages\n",
    "import spacy\n",
    "import re\n",
    "import numpy as np\n",
    "import matplotlib.pyplot as plt\n",
    "from sklearn.manifold import TSNE\n",
    "nlp = spacy.load('en_core_web_sm')\n",
    "import csv\n",
    "import gensim\n",
    "import io\n",
    "\n",
    "import torch\n",
    "import torch.nn as nn\n",
    "import torch.nn.functional as F\n",
    "from torch import optim\n",
    "from torch.utils.data import TensorDataset, DataLoader, random_split"
   ]
  },
  {
   "cell_type": "code",
   "execution_count": 5,
   "metadata": {
    "id": "afNa89WHIFIM"
   },
   "outputs": [],
   "source": [
    "trainPosPath = open(\"./Data/Ass1/pos.txt\",'r')\n",
    "trainNegPath = open(\"./Data/Ass1/neg.txt\",'r')\n",
    "posList = trainPosPath.read().split(\"\\n\")[:5000]\n",
    "negList = trainNegPath.read().split(\"\\n\")[:5000]"
   ]
  },
  {
   "cell_type": "markdown",
   "metadata": {
    "id": "Oa8iNmR_mi3D"
   },
   "source": [
    "# Functions for sentence preprocessing"
   ]
  },
  {
   "cell_type": "code",
   "execution_count": 6,
   "metadata": {
    "id": "W11dc8X_TkgL"
   },
   "outputs": [],
   "source": [
    "def remPunc(text):\n",
    "  if type(text) == str:\n",
    "    text = re.sub('<[^>]*>', '', text)\n",
    "    text = re.sub('[\\W]+', '', text.lower())\n",
    "    return text\n",
    "\n",
    "def refineSentence(tempSentence):\n",
    "  tokens = nlp(tempSentence)\n",
    "  filtered = []\n",
    "  for token in tokens:\n",
    "    if (token.is_stop == False):\n",
    "      textAfterRemPunc = remPunc(token.lemma_)\n",
    "      if(textAfterRemPunc != ''):\n",
    "        filtered.append(textAfterRemPunc)\n",
    "  return filtered "
   ]
  },
  {
   "cell_type": "markdown",
   "metadata": {
    "id": "hfr1rKtlmslg"
   },
   "source": [
    "# PreProcessing the Train Data"
   ]
  },
  {
   "cell_type": "code",
   "execution_count": 7,
   "metadata": {
    "id": "gJAHS98tmyFM"
   },
   "outputs": [],
   "source": [
    "posPreProccessedList = [refineSentence(sentence) for sentence in posList]\n",
    "negPreProccessedList = [refineSentence(sentence) for sentence in negList]"
   ]
  },
  {
   "cell_type": "code",
   "execution_count": 8,
   "metadata": {
    "id": "I__o5ClNndBG"
   },
   "outputs": [],
   "source": [
    "dim = 300"
   ]
  },
  {
   "cell_type": "markdown",
   "metadata": {
    "id": "F_9WLMvaslv5"
   },
   "source": [
    "# Getting Word2Vec Embeddings"
   ]
  },
  {
   "cell_type": "code",
   "execution_count": 9,
   "metadata": {
    "id": "wVp4vOObsssl"
   },
   "outputs": [],
   "source": [
    "embeddingsWord2Vec = gensim.models.KeyedVectors.load_word2vec_format('./Data/GoogleNews-vectors-negative300.bin', binary=True)\n",
    "# if you vector file is in binary format, change to binary=True"
   ]
  },
  {
   "cell_type": "markdown",
   "metadata": {
    "id": "TQ08lW7oqIyY"
   },
   "source": [
    "# Getting GloVe Embeddings"
   ]
  },
  {
   "cell_type": "code",
   "execution_count": 10,
   "metadata": {
    "id": "0oS1pRlVnwzv"
   },
   "outputs": [],
   "source": [
    "embeddingsGloVe = {}\n",
    "with open(\"./Data/glove.6B.300d.txt\", 'r', encoding=\"utf-8\") as wordEmbeddings:\n",
    "  for line in wordEmbeddings:\n",
    "    values = line.split()\n",
    "    word = values[0]\n",
    "    vector = np.asarray(values[1:],'float32')\n",
    "    embeddingsGloVe[word]=vector"
   ]
  },
  {
   "cell_type": "markdown",
   "metadata": {
    "id": "3XFnEsH_spFM"
   },
   "source": [
    "# Getting FastText Embeddings"
   ]
  },
  {
   "cell_type": "code",
   "execution_count": 11,
   "metadata": {
    "id": "882gbSJ3srvz"
   },
   "outputs": [],
   "source": [
    "def LoadFastText(PATH_TO_FASTTEXT):\n",
    "    input_file = io.open(PATH_TO_FASTTEXT, 'r', encoding='utf-8', newline='\\n', errors='ignore')\n",
    "    no_of_words, vector_size = map(int, input_file.readline().split())\n",
    "    # word_to_vector: Dict[str, List[float]] = dict()\n",
    "    word_to_vector = {}\n",
    "    for i, line in enumerate(input_file):\n",
    "        tokens = line.rstrip().split(' ')\n",
    "        word = tokens[0]\n",
    "        vector = list(map(float, tokens[1:]))\n",
    "        assert len(vector) == vector_size\n",
    "        word_to_vector[word] = vector\n",
    "    return word_to_vector\n",
    "\n",
    "embeddingsFastText = LoadFastText(\"./Data/wiki-news-300d-1M-subword.vec\")"
   ]
  },
  {
   "cell_type": "markdown",
   "metadata": {
    "id": "MFrU0v8ruzV_"
   },
   "source": [
    "# Dynamic Meta Embedding(Averaging the three embeddings)"
   ]
  },
  {
   "cell_type": "code",
   "execution_count": 12,
   "metadata": {
    "id": "ipWiXjJ-u3Tc"
   },
   "outputs": [],
   "source": [
    "def dynamicMetaEmbedding(word):\n",
    "  c = 0\n",
    "  finalEmbedding = [0 for i in range(dim)]\n",
    "  if word in embeddingsWord2Vec:\n",
    "    finalEmbedding += embeddingsWord2Vec[word]\n",
    "    c += 1\n",
    "  if word in embeddingsGloVe:\n",
    "    finalEmbedding += embeddingsGloVe[word]\n",
    "    c += 1\n",
    "  if word in embeddingsFastText:\n",
    "    finalEmbedding += embeddingsFastText[word]\n",
    "    c += 1\n",
    "  return np.divide(finalEmbedding, c)"
   ]
  },
  {
   "cell_type": "markdown",
   "metadata": {
    "id": "a0EIwX7ohhc8"
   },
   "source": [
    "Function to convert refined sentence to average sentence vector"
   ]
  },
  {
   "cell_type": "code",
   "execution_count": 13,
   "metadata": {
    "id": "oQrbyvxphumm"
   },
   "outputs": [],
   "source": [
    "def sentenceToAvgWordEmbeddings(preProccessedList):\n",
    "  preProccessedListVectors = []\n",
    "  for preProcessedWordList in preProccessedList:\n",
    "    tempList = []\n",
    "    for word in preProcessedWordList:\n",
    "      if word in embeddingsGloVe:\n",
    "        tempList.append(embeddingsGloVe[word])\n",
    "    preProccessedListVectors.append(tempList)\n",
    "\n",
    "  sentenceVector = []\n",
    "  for vectorsOfWords in preProccessedListVectors:\n",
    "    if(len(vectorsOfWords) == 0):\n",
    "      continue\n",
    "    avgVec = [0 for i in range(dim)]\n",
    "    for wordVec in vectorsOfWords:\n",
    "      avgVec += wordVec\n",
    "#       avgVec = np.add(avgVec,wordVec)\n",
    "    avgVec = [i/len(vectorsOfWords) for i in avgVec]\n",
    "    sentenceVector.append(avgVec)\n",
    "  return sentenceVector"
   ]
  },
  {
   "cell_type": "markdown",
   "metadata": {
    "id": "4AystgdYrFew"
   },
   "source": [
    "Training Data words to Word Vectors"
   ]
  },
  {
   "cell_type": "code",
   "execution_count": 14,
   "metadata": {
    "id": "zqnaV-k5rExL"
   },
   "outputs": [],
   "source": [
    "posSentenceVector = sentenceToAvgWordEmbeddings(posPreProccessedList)\n",
    "negSentenceVector = sentenceToAvgWordEmbeddings(negPreProccessedList)"
   ]
  },
  {
   "cell_type": "code",
   "execution_count": 15,
   "metadata": {
    "id": "-RHBzPJqg28P"
   },
   "outputs": [
    {
     "name": "stdout",
     "output_type": "stream",
     "text": [
      "4999\n",
      "4995\n",
      "9994\n"
     ]
    }
   ],
   "source": [
    "lenPos = len(posSentenceVector)\n",
    "lenNeg = len(negSentenceVector)\n",
    "nSamples = lenPos+lenNeg\n",
    "\n",
    "print(lenPos)\n",
    "print(lenNeg)\n",
    "print(nSamples)"
   ]
  },
  {
   "cell_type": "markdown",
   "metadata": {
    "id": "weWb3X47u24z"
   },
   "source": [
    "Appending the labels and shuffling."
   ]
  },
  {
   "cell_type": "code",
   "execution_count": 16,
   "metadata": {
    "id": "1Y-XEy8zu2je"
   },
   "outputs": [],
   "source": [
    "posSentenceVector = np.array(posSentenceVector)\n",
    "posLabel = np.array([1 for i in range(lenPos)]).reshape(lenPos,1)\n",
    "\n",
    "negSentenceVector = np.array(negSentenceVector)\n",
    "negLabel = np.array([0 for i in range(lenNeg)]).reshape(lenNeg,1)"
   ]
  },
  {
   "cell_type": "code",
   "execution_count": 17,
   "metadata": {
    "id": "mVqNYCMTCZ_M"
   },
   "outputs": [],
   "source": [
    "my_x = np.concatenate((posSentenceVector,negSentenceVector), axis = 0)\n",
    "my_y = np.concatenate((posLabel,negLabel), axis = 0)\n",
    "my_y = my_y.reshape((9994))\n",
    "trainSize = int(nSamples*(0.8))\n",
    "valSize = nSamples - trainSize\n",
    "tensor_x = torch.Tensor(my_x) # transform to torch tensor\n",
    "tensor_y = torch.Tensor(my_y)\n",
    "tensor_y = tensor_y.type(torch.LongTensor)\n",
    "trainDatasetTensor = TensorDataset(tensor_x,tensor_y) # create your datset\n",
    "trainData, validData = random_split(trainDatasetTensor, [trainSize,valSize])\n",
    "\n",
    "trainDataLoader = DataLoader(trainData, batch_size = 32)\n",
    "validDataLoader = DataLoader(validData, batch_size = 32)"
   ]
  },
  {
   "cell_type": "code",
   "execution_count": 18,
   "metadata": {
    "id": "LkENRSiXtBiw"
   },
   "outputs": [
    {
     "name": "stdout",
     "output_type": "stream",
     "text": [
      "torch.Size([9994])\n"
     ]
    }
   ],
   "source": [
    "print(tensor_y.shape)"
   ]
  },
  {
   "cell_type": "markdown",
   "metadata": {
    "id": "GGGObRDzWYtF"
   },
   "source": [
    "t-SNE and Plotting Graph"
   ]
  },
  {
   "cell_type": "code",
   "execution_count": 19,
   "metadata": {
    "id": "AXcsAX0NWWjm"
   },
   "outputs": [],
   "source": [
    "# dataTSNE = np.concatenate((posSentenceVector,negSentenceVector), axis = 0)\n",
    "# tSNE = TSNE(learning_rate = 100)\n",
    "# tSNE_features = tSNE.fit_transform(dataTSNE)"
   ]
  },
  {
   "cell_type": "code",
   "execution_count": 20,
   "metadata": {
    "id": "4aNuUEOeadRA"
   },
   "outputs": [],
   "source": [
    "# print(tSNE_features.shape)\n",
    "# pos_tsne = (tSNE_features[:lenPos]).T\n",
    "# neg_tsne = (tSNE_features[lenPos:]).T\n",
    "# plt.scatter(pos_tsne[0], pos_tsne[1],color = 'b')\n",
    "# plt.scatter(neg_tsne[0], neg_tsne[1],color = 'r')\n",
    "# plt.show()"
   ]
  },
  {
   "cell_type": "markdown",
   "metadata": {
    "id": "inmxViYDm5px"
   },
   "source": [
    "Loading Test Data"
   ]
  },
  {
   "cell_type": "code",
   "execution_count": 21,
   "metadata": {
    "id": "UTLUgJj5k2oJ"
   },
   "outputs": [
    {
     "name": "stdout",
     "output_type": "stream",
     "text": [
      "331\n",
      "331\n"
     ]
    }
   ],
   "source": [
    "testPath = open(\"./Data/Ass1/testdata.txt\",'r')\n",
    "testDataList = testPath.read().split(\"\\n\")\n",
    "\n",
    "testPosList = testDataList[:331]\n",
    "testNegList = testDataList[331:]\n",
    "\n",
    "print(len(testPosList))\n",
    "print(len(testNegList))\n",
    "\n",
    "testPosPreProccessedList = [refineSentence(sentence) for sentence in testPosList]\n",
    "testNegPreProccessedList = [refineSentence(sentence) for sentence in testNegList]\n",
    "\n",
    "testPosSentenceVector = sentenceToAvgWordEmbeddings(testPosPreProccessedList)\n",
    "testNegSentenceVector = sentenceToAvgWordEmbeddings(testNegPreProccessedList)\n",
    "\n",
    "testLenPos = len(testPosSentenceVector)\n",
    "testLenNeg = len(testNegSentenceVector)\n",
    "nSamples_test = testLenPos+testLenNeg\n",
    "\n",
    "testPosSentenceVector = np.array(testPosSentenceVector)\n",
    "testPosLabel = np.array([1 for i in range(testLenPos)]).reshape(testLenPos,1)\n",
    "\n",
    "testNegSentenceVector = np.array(testNegSentenceVector)\n",
    "testNegLabel = np.array([0 for i in range(testLenNeg)]).reshape(testLenNeg,1)\n",
    "\n",
    "testMy_x = np.concatenate((testPosSentenceVector,testNegSentenceVector), axis = 0)\n",
    "testMy_y = np.concatenate((testPosLabel,testNegLabel), axis = 0)\n",
    "testTensor_x = torch.Tensor(testMy_x) # transform to torch tensor\n",
    "testTensor_y = torch.Tensor(testMy_y)\n",
    "testDatasetTensor = TensorDataset(testTensor_x,testTensor_y) # create your datset\n",
    "\n",
    "testDataLoader = DataLoader(testDatasetTensor)"
   ]
  },
  {
   "cell_type": "code",
   "execution_count": 22,
   "metadata": {
    "id": "z-YylWhWJfQF"
   },
   "outputs": [],
   "source": [
    "class NeuralNet(nn.Module):\n",
    "  def __init__(self, inputSize, noOfNeuronsInHiddenLayer, num_classes):\n",
    "    super(NeuralNet, self).__init__()\n",
    "    self.input_size = inputSize\n",
    "    self.l1 = nn.Linear(inputSize, noOfNeuronsInHiddenLayer) \n",
    "    self.d1 = nn.Dropout(0.25)\n",
    "    self.relu1 = nn.ReLU()\n",
    "    self.l2 = nn.Linear(noOfNeuronsInHiddenLayer,num_classes)\n",
    "    self.softmax=nn.Softmax(dim=1)\n",
    "\n",
    "  def forward(self, x):\n",
    "    out = self.l1(x)\n",
    "    out = self.d1(out)\n",
    "    out = self.relu1(out)\n",
    "    out = self.l2(out)\n",
    "    out = self.softmax(out)\n",
    "    return out"
   ]
  },
  {
   "cell_type": "code",
   "execution_count": 23,
   "metadata": {
    "id": "Z1e1ABlLrGI7"
   },
   "outputs": [],
   "source": [
    "noOfNeuronsInHiddenLayer = 400\n",
    "DAN2Layer = NeuralNet(dim, noOfNeuronsInHiddenLayer, 2)"
   ]
  },
  {
   "cell_type": "code",
   "execution_count": 24,
   "metadata": {
    "id": "s38J1_mPKiCK"
   },
   "outputs": [],
   "source": [
    "class DAN:\n",
    "  def __init__(self, trainDataLoader, validDataLoader, epochs, NNobj, learningRate):\n",
    "    self.trainDataLoader = trainDataLoader\n",
    "    self.validDataLoader = validDataLoader\n",
    "    self.epochs = epochs\n",
    "    self.NNobj = NNobj\n",
    "    self.cross_entropy_loss = nn.CrossEntropyLoss()\n",
    "\n",
    "    self.optimizer = optim.SGD(self.NNobj.parameters(), lr = learningRate)\n",
    "\n",
    "    self.trainLossList = []\n",
    "    self.validLossList = []\n",
    "    self.trainLossListPlotting = []\n",
    "    self.validLossListPlotting = []\n",
    "\n",
    "  def fit(self):\n",
    "    trainData, validData = self.trainDataLoader, self.validDataLoader\n",
    "    for i in range(self.epochs):\n",
    "      self.trainLossList = []\n",
    "      self.validLossList = []\n",
    "      accuracyListTrain = []\n",
    "      for batch in trainData:\n",
    "        self.NNobj.train()\n",
    "        x, y = batch\n",
    "        # b = x.size(0)\n",
    "        # x = x.view(b, -1)\n",
    "\n",
    "        forwardValue = self.NNobj(x)\n",
    "        costFunction_J = self.cross_entropy_loss(forwardValue, y)\n",
    "        self.NNobj.zero_grad()\n",
    "        costFunction_J.backward()\n",
    "        self.optimizer.step()\n",
    "        self.trainLossList.append(costFunction_J.item())\n",
    "        accuracyListTrain.append(y.eq(forwardValue.detach().argmax(dim = 1)).float().mean())\n",
    "          \n",
    "      accuracyListVal = []\n",
    "      for batch in validData:\n",
    "        self.NNobj.eval()\n",
    "        x, y = batch\n",
    "        with torch.no_grad():\n",
    "          forwardValue = self.NNobj(x)\n",
    "          costFunction_J = self.cross_entropy_loss(forwardValue, y)\n",
    "        self.validLossList.append(costFunction_J.item())\n",
    "        accuracyListVal.append(y.eq(forwardValue.detach().argmax(dim = 1)).float().mean())\n",
    "      \n",
    "      self.trainLossListPlotting.append(torch.tensor(self.trainLossList).mean())\n",
    "      self.validLossListPlotting.append(torch.tensor(self.validLossList).mean())\n",
    "      accuracyTrain = torch.tensor(accuracyListTrain).mean() * 100\n",
    "      accuracyVal = torch.tensor(accuracyListVal).mean() * 100\n",
    "\n",
    "      print('At Epoch Number: ' + str(i+1) +'; Train Loss= ' + str(\"{:.2f}\".format(torch.tensor(self.trainLossList).mean()))+'; Validation Loss= ' + str(\"{:.2f}\".format(torch.tensor(self.validLossList).mean())) + \"; \" + \"Train Accuracy = \", \"{:.2f}\".format(accuracyTrain), \"%\" + \"; \" + \"Validation Accuracy = \", \"{:.2f}\".format(accuracyVal), \"%\")\n",
    "\n",
    "  def predict(self,testData):\n",
    "    accuracyListPred = []\n",
    "    for batch in testData:\n",
    "      x, y = batch\n",
    "\n",
    "      with torch.no_grad():\n",
    "        forwardValue = self.NNobj(x)\n",
    "          \n",
    "      accuracyListPred.append(y.eq(forwardValue.detach().argmax(dim = 1)).float().mean())\n",
    "    accuracy = torch.tensor(accuracyListPred).mean() * 100\n",
    "    print('\\033[1m' + \"Review Classification Accuracy on Test Data = \", \"{:.2f}\".format(accuracy), \" %\" + '\\033[0m' )\n",
    "\n",
    "  def plotLossCurve(self, flag):\n",
    "    x = [(i+1) for i in range(self.epochs)]\n",
    "    plt.xlabel('#Epoch')\n",
    "    plt.ylabel('Loss')\n",
    "    tempStr = \"Loss curve for \"\n",
    "    if(flag == 0):\n",
    "        tempStr += \"Train Data\"\n",
    "        plt.plot(x,self.trainLossListPlotting)\n",
    "    else:\n",
    "        tempStr += \"Validation Data\"\n",
    "        plt.plot(x,self.validLossListPlotting)\n",
    "    plt.title(tempStr)\n",
    "    plt.show()\n"
   ]
  },
  {
   "cell_type": "code",
   "execution_count": 25,
   "metadata": {
    "id": "WPeKZGIJTfKw"
   },
   "outputs": [
    {
     "name": "stdout",
     "output_type": "stream",
     "text": [
      "At Epoch Number: 1; Train Loss= 0.69; Validation Loss= 0.69; Train Accuracy =  51.44 %; Validation Accuracy =  53.07 %\n",
      "At Epoch Number: 2; Train Loss= 0.69; Validation Loss= 0.69; Train Accuracy =  57.38 %; Validation Accuracy =  61.72 %\n",
      "At Epoch Number: 3; Train Loss= 0.69; Validation Loss= 0.69; Train Accuracy =  62.21 %; Validation Accuracy =  66.89 %\n",
      "At Epoch Number: 4; Train Loss= 0.68; Validation Loss= 0.68; Train Accuracy =  64.09 %; Validation Accuracy =  68.13 %\n",
      "At Epoch Number: 5; Train Loss= 0.68; Validation Loss= 0.68; Train Accuracy =  67.10 %; Validation Accuracy =  69.12 %\n",
      "At Epoch Number: 6; Train Loss= 0.68; Validation Loss= 0.67; Train Accuracy =  66.87 %; Validation Accuracy =  69.62 %\n",
      "At Epoch Number: 7; Train Loss= 0.67; Validation Loss= 0.67; Train Accuracy =  67.89 %; Validation Accuracy =  69.67 %\n",
      "At Epoch Number: 8; Train Loss= 0.67; Validation Loss= 0.66; Train Accuracy =  68.40 %; Validation Accuracy =  70.08 %\n",
      "At Epoch Number: 9; Train Loss= 0.66; Validation Loss= 0.65; Train Accuracy =  68.70 %; Validation Accuracy =  70.67 %\n",
      "At Epoch Number: 10; Train Loss= 0.65; Validation Loss= 0.65; Train Accuracy =  69.46 %; Validation Accuracy =  70.97 %\n",
      "At Epoch Number: 11; Train Loss= 0.65; Validation Loss= 0.64; Train Accuracy =  69.39 %; Validation Accuracy =  71.12 %\n",
      "At Epoch Number: 12; Train Loss= 0.64; Validation Loss= 0.63; Train Accuracy =  69.78 %; Validation Accuracy =  71.46 %\n",
      "At Epoch Number: 13; Train Loss= 0.63; Validation Loss= 0.62; Train Accuracy =  70.08 %; Validation Accuracy =  71.46 %\n",
      "At Epoch Number: 14; Train Loss= 0.62; Validation Loss= 0.62; Train Accuracy =  70.56 %; Validation Accuracy =  71.76 %\n",
      "At Epoch Number: 15; Train Loss= 0.62; Validation Loss= 0.61; Train Accuracy =  70.62 %; Validation Accuracy =  71.90 %\n",
      "At Epoch Number: 16; Train Loss= 0.61; Validation Loss= 0.60; Train Accuracy =  70.88 %; Validation Accuracy =  71.80 %\n",
      "At Epoch Number: 17; Train Loss= 0.61; Validation Loss= 0.60; Train Accuracy =  70.85 %; Validation Accuracy =  71.90 %\n",
      "At Epoch Number: 18; Train Loss= 0.60; Validation Loss= 0.60; Train Accuracy =  71.07 %; Validation Accuracy =  72.25 %\n",
      "At Epoch Number: 19; Train Loss= 0.60; Validation Loss= 0.59; Train Accuracy =  71.50 %; Validation Accuracy =  72.29 %\n",
      "At Epoch Number: 20; Train Loss= 0.60; Validation Loss= 0.59; Train Accuracy =  72.06 %; Validation Accuracy =  72.64 %\n",
      "At Epoch Number: 21; Train Loss= 0.59; Validation Loss= 0.58; Train Accuracy =  72.34 %; Validation Accuracy =  72.84 %\n",
      "At Epoch Number: 22; Train Loss= 0.59; Validation Loss= 0.58; Train Accuracy =  72.30 %; Validation Accuracy =  72.99 %\n",
      "At Epoch Number: 23; Train Loss= 0.59; Validation Loss= 0.58; Train Accuracy =  72.32 %; Validation Accuracy =  73.19 %\n",
      "At Epoch Number: 24; Train Loss= 0.58; Validation Loss= 0.58; Train Accuracy =  72.59 %; Validation Accuracy =  73.34 %\n",
      "At Epoch Number: 25; Train Loss= 0.58; Validation Loss= 0.57; Train Accuracy =  72.76 %; Validation Accuracy =  73.54 %\n",
      "At Epoch Number: 26; Train Loss= 0.58; Validation Loss= 0.57; Train Accuracy =  73.09 %; Validation Accuracy =  73.68 %\n",
      "At Epoch Number: 27; Train Loss= 0.58; Validation Loss= 0.57; Train Accuracy =  73.40 %; Validation Accuracy =  74.07 %\n",
      "At Epoch Number: 28; Train Loss= 0.58; Validation Loss= 0.57; Train Accuracy =  73.27 %; Validation Accuracy =  73.97 %\n",
      "At Epoch Number: 29; Train Loss= 0.58; Validation Loss= 0.57; Train Accuracy =  72.81 %; Validation Accuracy =  74.27 %\n",
      "At Epoch Number: 30; Train Loss= 0.57; Validation Loss= 0.57; Train Accuracy =  73.10 %; Validation Accuracy =  74.32 %\n",
      "At Epoch Number: 31; Train Loss= 0.57; Validation Loss= 0.56; Train Accuracy =  73.42 %; Validation Accuracy =  74.22 %\n",
      "At Epoch Number: 32; Train Loss= 0.57; Validation Loss= 0.56; Train Accuracy =  72.97 %; Validation Accuracy =  74.52 %\n",
      "At Epoch Number: 33; Train Loss= 0.57; Validation Loss= 0.56; Train Accuracy =  73.79 %; Validation Accuracy =  74.57 %\n",
      "At Epoch Number: 34; Train Loss= 0.57; Validation Loss= 0.56; Train Accuracy =  73.69 %; Validation Accuracy =  74.97 %\n",
      "At Epoch Number: 35; Train Loss= 0.57; Validation Loss= 0.56; Train Accuracy =  73.89 %; Validation Accuracy =  75.12 %\n",
      "At Epoch Number: 36; Train Loss= 0.57; Validation Loss= 0.56; Train Accuracy =  73.87 %; Validation Accuracy =  75.07 %\n",
      "At Epoch Number: 37; Train Loss= 0.57; Validation Loss= 0.56; Train Accuracy =  73.89 %; Validation Accuracy =  75.02 %\n",
      "At Epoch Number: 38; Train Loss= 0.56; Validation Loss= 0.56; Train Accuracy =  74.24 %; Validation Accuracy =  75.22 %\n",
      "At Epoch Number: 39; Train Loss= 0.56; Validation Loss= 0.56; Train Accuracy =  74.10 %; Validation Accuracy =  75.22 %\n",
      "At Epoch Number: 40; Train Loss= 0.56; Validation Loss= 0.56; Train Accuracy =  74.10 %; Validation Accuracy =  75.22 %\n",
      "At Epoch Number: 41; Train Loss= 0.56; Validation Loss= 0.56; Train Accuracy =  74.15 %; Validation Accuracy =  75.52 %\n",
      "At Epoch Number: 42; Train Loss= 0.56; Validation Loss= 0.55; Train Accuracy =  74.29 %; Validation Accuracy =  75.32 %\n",
      "At Epoch Number: 43; Train Loss= 0.56; Validation Loss= 0.55; Train Accuracy =  74.16 %; Validation Accuracy =  75.47 %\n",
      "At Epoch Number: 44; Train Loss= 0.56; Validation Loss= 0.55; Train Accuracy =  74.30 %; Validation Accuracy =  75.72 %\n",
      "At Epoch Number: 45; Train Loss= 0.56; Validation Loss= 0.55; Train Accuracy =  74.65 %; Validation Accuracy =  75.77 %\n",
      "At Epoch Number: 46; Train Loss= 0.56; Validation Loss= 0.55; Train Accuracy =  74.48 %; Validation Accuracy =  75.82 %\n",
      "At Epoch Number: 47; Train Loss= 0.56; Validation Loss= 0.55; Train Accuracy =  74.38 %; Validation Accuracy =  75.72 %\n",
      "At Epoch Number: 48; Train Loss= 0.56; Validation Loss= 0.55; Train Accuracy =  74.70 %; Validation Accuracy =  75.72 %\n",
      "At Epoch Number: 49; Train Loss= 0.56; Validation Loss= 0.55; Train Accuracy =  74.83 %; Validation Accuracy =  75.87 %\n",
      "At Epoch Number: 50; Train Loss= 0.56; Validation Loss= 0.55; Train Accuracy =  74.99 %; Validation Accuracy =  75.72 %\n",
      "At Epoch Number: 51; Train Loss= 0.56; Validation Loss= 0.55; Train Accuracy =  74.76 %; Validation Accuracy =  75.77 %\n",
      "At Epoch Number: 52; Train Loss= 0.56; Validation Loss= 0.55; Train Accuracy =  74.46 %; Validation Accuracy =  75.72 %\n",
      "At Epoch Number: 53; Train Loss= 0.55; Validation Loss= 0.55; Train Accuracy =  75.09 %; Validation Accuracy =  75.57 %\n",
      "At Epoch Number: 54; Train Loss= 0.55; Validation Loss= 0.55; Train Accuracy =  74.75 %; Validation Accuracy =  75.57 %\n",
      "At Epoch Number: 55; Train Loss= 0.55; Validation Loss= 0.55; Train Accuracy =  74.86 %; Validation Accuracy =  75.67 %\n",
      "At Epoch Number: 56; Train Loss= 0.55; Validation Loss= 0.55; Train Accuracy =  74.83 %; Validation Accuracy =  75.67 %\n",
      "At Epoch Number: 57; Train Loss= 0.55; Validation Loss= 0.55; Train Accuracy =  74.91 %; Validation Accuracy =  75.57 %\n",
      "At Epoch Number: 58; Train Loss= 0.55; Validation Loss= 0.55; Train Accuracy =  74.65 %; Validation Accuracy =  75.72 %\n",
      "At Epoch Number: 59; Train Loss= 0.55; Validation Loss= 0.55; Train Accuracy =  75.23 %; Validation Accuracy =  75.62 %\n",
      "At Epoch Number: 60; Train Loss= 0.55; Validation Loss= 0.55; Train Accuracy =  74.92 %; Validation Accuracy =  75.62 %\n",
      "At Epoch Number: 61; Train Loss= 0.55; Validation Loss= 0.55; Train Accuracy =  75.23 %; Validation Accuracy =  75.67 %\n",
      "At Epoch Number: 62; Train Loss= 0.55; Validation Loss= 0.55; Train Accuracy =  75.00 %; Validation Accuracy =  75.77 %\n",
      "At Epoch Number: 63; Train Loss= 0.55; Validation Loss= 0.55; Train Accuracy =  75.12 %; Validation Accuracy =  75.72 %\n",
      "At Epoch Number: 64; Train Loss= 0.55; Validation Loss= 0.55; Train Accuracy =  74.97 %; Validation Accuracy =  75.57 %\n",
      "At Epoch Number: 65; Train Loss= 0.55; Validation Loss= 0.55; Train Accuracy =  75.16 %; Validation Accuracy =  75.77 %\n",
      "At Epoch Number: 66; Train Loss= 0.55; Validation Loss= 0.55; Train Accuracy =  75.37 %; Validation Accuracy =  75.72 %\n",
      "At Epoch Number: 67; Train Loss= 0.55; Validation Loss= 0.55; Train Accuracy =  75.57 %; Validation Accuracy =  75.97 %\n",
      "At Epoch Number: 68; Train Loss= 0.55; Validation Loss= 0.55; Train Accuracy =  75.39 %; Validation Accuracy =  75.97 %\n",
      "At Epoch Number: 69; Train Loss= 0.55; Validation Loss= 0.55; Train Accuracy =  75.73 %; Validation Accuracy =  75.97 %\n",
      "At Epoch Number: 70; Train Loss= 0.55; Validation Loss= 0.55; Train Accuracy =  75.60 %; Validation Accuracy =  76.02 %\n"
     ]
    },
    {
     "name": "stdout",
     "output_type": "stream",
     "text": [
      "At Epoch Number: 71; Train Loss= 0.55; Validation Loss= 0.54; Train Accuracy =  75.48 %; Validation Accuracy =  75.87 %\n",
      "At Epoch Number: 72; Train Loss= 0.55; Validation Loss= 0.54; Train Accuracy =  75.37 %; Validation Accuracy =  76.06 %\n",
      "At Epoch Number: 73; Train Loss= 0.55; Validation Loss= 0.54; Train Accuracy =  75.39 %; Validation Accuracy =  75.87 %\n",
      "At Epoch Number: 74; Train Loss= 0.55; Validation Loss= 0.54; Train Accuracy =  75.27 %; Validation Accuracy =  76.11 %\n",
      "At Epoch Number: 75; Train Loss= 0.55; Validation Loss= 0.54; Train Accuracy =  75.12 %; Validation Accuracy =  75.92 %\n",
      "At Epoch Number: 76; Train Loss= 0.55; Validation Loss= 0.54; Train Accuracy =  75.46 %; Validation Accuracy =  75.82 %\n",
      "At Epoch Number: 77; Train Loss= 0.55; Validation Loss= 0.54; Train Accuracy =  75.51 %; Validation Accuracy =  75.82 %\n",
      "At Epoch Number: 78; Train Loss= 0.55; Validation Loss= 0.54; Train Accuracy =  75.72 %; Validation Accuracy =  75.82 %\n",
      "At Epoch Number: 79; Train Loss= 0.55; Validation Loss= 0.54; Train Accuracy =  75.56 %; Validation Accuracy =  75.72 %\n",
      "At Epoch Number: 80; Train Loss= 0.55; Validation Loss= 0.54; Train Accuracy =  75.68 %; Validation Accuracy =  75.97 %\n",
      "At Epoch Number: 81; Train Loss= 0.55; Validation Loss= 0.54; Train Accuracy =  75.78 %; Validation Accuracy =  76.11 %\n",
      "At Epoch Number: 82; Train Loss= 0.54; Validation Loss= 0.54; Train Accuracy =  75.71 %; Validation Accuracy =  76.11 %\n",
      "At Epoch Number: 83; Train Loss= 0.55; Validation Loss= 0.54; Train Accuracy =  75.81 %; Validation Accuracy =  76.02 %\n",
      "At Epoch Number: 84; Train Loss= 0.55; Validation Loss= 0.54; Train Accuracy =  75.87 %; Validation Accuracy =  75.97 %\n",
      "At Epoch Number: 85; Train Loss= 0.54; Validation Loss= 0.54; Train Accuracy =  75.91 %; Validation Accuracy =  75.92 %\n",
      "At Epoch Number: 86; Train Loss= 0.55; Validation Loss= 0.54; Train Accuracy =  75.96 %; Validation Accuracy =  75.97 %\n",
      "At Epoch Number: 87; Train Loss= 0.54; Validation Loss= 0.54; Train Accuracy =  75.96 %; Validation Accuracy =  75.92 %\n",
      "At Epoch Number: 88; Train Loss= 0.54; Validation Loss= 0.54; Train Accuracy =  75.92 %; Validation Accuracy =  75.92 %\n",
      "At Epoch Number: 89; Train Loss= 0.55; Validation Loss= 0.54; Train Accuracy =  75.91 %; Validation Accuracy =  75.97 %\n",
      "At Epoch Number: 90; Train Loss= 0.54; Validation Loss= 0.54; Train Accuracy =  75.89 %; Validation Accuracy =  75.97 %\n",
      "At Epoch Number: 91; Train Loss= 0.55; Validation Loss= 0.54; Train Accuracy =  75.87 %; Validation Accuracy =  75.92 %\n",
      "At Epoch Number: 92; Train Loss= 0.54; Validation Loss= 0.54; Train Accuracy =  75.92 %; Validation Accuracy =  75.97 %\n",
      "At Epoch Number: 93; Train Loss= 0.54; Validation Loss= 0.54; Train Accuracy =  76.21 %; Validation Accuracy =  75.87 %\n",
      "At Epoch Number: 94; Train Loss= 0.54; Validation Loss= 0.54; Train Accuracy =  76.04 %; Validation Accuracy =  75.92 %\n",
      "At Epoch Number: 95; Train Loss= 0.54; Validation Loss= 0.54; Train Accuracy =  75.81 %; Validation Accuracy =  75.82 %\n",
      "At Epoch Number: 96; Train Loss= 0.54; Validation Loss= 0.54; Train Accuracy =  76.02 %; Validation Accuracy =  75.92 %\n",
      "At Epoch Number: 97; Train Loss= 0.54; Validation Loss= 0.54; Train Accuracy =  76.26 %; Validation Accuracy =  75.92 %\n",
      "At Epoch Number: 98; Train Loss= 0.54; Validation Loss= 0.54; Train Accuracy =  76.43 %; Validation Accuracy =  75.87 %\n",
      "At Epoch Number: 99; Train Loss= 0.54; Validation Loss= 0.54; Train Accuracy =  76.14 %; Validation Accuracy =  75.87 %\n",
      "At Epoch Number: 100; Train Loss= 0.54; Validation Loss= 0.54; Train Accuracy =  76.46 %; Validation Accuracy =  75.92 %\n"
     ]
    },
    {
     "data": {
      "image/png": "[encoded data removed]",
      "text/plain": [
       "<Figure size 640x480 with 1 Axes>"
      ]
     },
     "metadata": {},
     "output_type": "display_data"
    },
    {
     "data": {
      "image/png": "[encoded data removed]",
      "text/plain": [
       "<Figure size 640x480 with 1 Axes>"
      ]
     },
     "metadata": {},
     "output_type": "display_data"
    }
   ],
   "source": [
    "epochs = 100\n",
    "learningRate = 1e-2\n",
    "DANObj = DAN(trainDataLoader,validDataLoader,epochs,DAN2Layer,learningRate)\n",
    "DANObj.fit()\n",
    "DANObj.plotLossCurve(0)\n",
    "DANObj.plotLossCurve(1)"
   ]
  },
  {
   "cell_type": "code",
   "execution_count": 26,
   "metadata": {
    "id": "suAwtAeV4Ona"
   },
   "outputs": [
    {
     "name": "stdout",
     "output_type": "stream",
     "text": [
      "\u001b[1mReview Classification Accuracy on Test Data =  74.77  %\u001b[0m\n"
     ]
    }
   ],
   "source": [
    "DANObj.predict(testDataLoader)"
   ]
  }
 ],
 "metadata": {
  "colab": {
   "collapsed_sections": [],
   "provenance": []
  },
  "kernelspec": {
   "display_name": "Python 3 (ipykernel)",
   "language": "python",
   "name": "python3"
  },
  "language_info": {
   "codemirror_mode": {
    "name": "ipython",
    "version": 3
   },
   "file_extension": ".py",
   "mimetype": "text/x-python",
   "name": "python",
   "nbconvert_exporter": "python",
   "pygments_lexer": "ipython3",
   "version": "3.10.6"
  }
 },
 "nbformat": 4,
 "nbformat_minor": 1
}
