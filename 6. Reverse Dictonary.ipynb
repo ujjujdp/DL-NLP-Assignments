{
 "cells": [
  {
   "cell_type": "code",
   "execution_count": 37,
   "id": "1fd87175",
   "metadata": {},
   "outputs": [],
   "source": [
    "# Importing necessary packages\n",
    "import numpy as np\n",
    "import matplotlib.pyplot as plt\n",
    "import spacy\n",
    "import random\n",
    "nlp = spacy.load('en_core_web_sm')\n",
    "\n",
    "import pandas as pd\n",
    "import torch\n",
    "import torch.nn as nn\n",
    "import torch.nn.functional as F\n",
    "from torch import optim\n",
    "from torch.utils.data import TensorDataset, DataLoader, random_split"
   ]
  },
  {
   "cell_type": "markdown",
   "id": "f762130c",
   "metadata": {},
   "source": [
    "### Reading Word Alignment Data"
   ]
  },
  {
   "cell_type": "code",
   "execution_count": 41,
   "id": "df501a98",
   "metadata": {},
   "outputs": [
    {
     "name": "stdout",
     "output_type": "stream",
     "text": [
      "['\\ufeffCommission', 'Regulation', '(EC)', 'No', '1788/2004', 'Verordnung', '(EG)', 'Nr.', '1788/2004', 'der', 'Kommission']\n",
      "['of', '15', 'October', '2004', 'vom', '15.', 'Oktober', '2004']\n",
      "['fixing', 'the', 'minimum', 'selling', 'prices', 'for', 'butter', 'for', 'the', '150th', 'individual', 'invitation', 'to', 'tender', 'under', 'the', 'standing', 'invitation', 'to', 'tender', 'provided', 'for', 'in', 'Regulation', '(EC)', 'No', '2571/97', 'zur', 'Festsetzung', 'der', 'Mindestverkaufspreise', 'für', 'Butter', 'für', 'die', '150.', 'Einzelausschreibung', 'im', 'Rahmen', 'der', 'Dauerausschreibung', 'gemäß', 'der', 'Verordnung', '(EG)', 'Nr.', '2571/97']\n",
      "['THE', 'COMMISSION', 'OF', 'THE', 'EUROPEAN', 'COMMUNITIES,', 'DIE', 'KOMMISSION', 'DER', 'EUROPÄISCHEN', 'GEMEINSCHAFTEN', '—']\n",
      "['Having', 'regard', 'to', 'the', 'Treaty', 'establishing', 'the', 'European', 'Community,', 'gestützt', 'auf', 'den', 'Vertrag', 'zur', 'Gründung', 'der', 'Europäischen', 'Gemeinschaft,']\n",
      "['Having', 'regard', 'to', 'Council', 'Regulation', '(EC)', 'No', '1255/1999', 'of', '17', 'May', '1999', 'on', 'the', 'common', 'organisation', 'of', 'the', 'market', 'in', 'milk', 'and', 'milk', 'products', '[1],', 'and', 'in', 'particular', 'Article', '10', 'thereof,', 'gestützt', 'auf', 'die', 'Verordnung', '(EG)', 'Nr.', '1255/1999', 'des', 'Rates', 'vom', '17.', 'Mai', '1999', 'über', 'die', 'gemeinsame', 'Marktorganisation', 'für', 'Milch', 'und', 'Milcherzeugnisse', '[1],', 'insbesondere', 'auf', 'Artikel', '10,']\n",
      "['Whereas:', 'in', 'Erwägung', 'nachstehender', 'Gründe:']\n",
      "['The', 'intervention', 'agencies', 'are,', 'pursuant', 'to', 'Commission', 'Regulation', '(EC)', 'No', '2571/97', 'of', '15', 'December', '1997', 'on', 'the', 'sale', 'of', 'butter', 'at', 'reduced', 'prices', 'and', 'the', 'granting', 'of', 'aid', 'for', 'cream,', 'butter', 'and', 'concentrated', 'butter', 'for', 'use', 'in', 'the', 'manufacture', 'of', 'pastry', 'products,', 'ice-cream', 'and', 'other', 'foodstuffs', '[2],', 'to', 'sell', 'by', 'invitation', 'to', 'tender', 'certain', 'quantities', 'of', 'butter', 'from', 'intervention', 'stocks', 'that', 'they', 'hold', 'and', 'to', 'grant', 'aid', 'for', 'cream,', 'butter', 'and', 'concentrated', 'butter.', 'Gemäß', 'der', 'Verordnung', '(EG)', 'Nr.', '2571/97', 'der', 'Kommission', 'vom', '15.', 'Dezember', '1997', 'über', 'den', 'Verkauf', 'von', 'Billigbutter', 'und', 'die', 'Gewährung', 'einer', 'Beihilfe', 'für', 'Rahm,', 'Butter', 'und', 'Butterfett', 'für', 'die', 'Herstellung', 'von', 'Backwaren,', 'Speiseeis', 'und', 'anderen', 'Lebensmitteln', '[2]', 'verkaufen', 'die', 'Interventionsstellen', 'bestimmte', 'Interventionsbuttermengen', 'aus', 'ihren', 'Beständen', 'durch', 'Ausschreibung', 'und', 'gewähren', 'für', 'den', 'Rahm,', 'die', 'Butter', 'und', 'das', 'Butterfett', 'eine', 'Beihilfe.']\n",
      "['Article', '18', 'of', 'that', 'Regulation', 'stipulates', 'that', 'in', 'the', 'light', 'of', 'the', 'tenders', 'received', 'in', 'response', 'to', 'each', 'individual', 'invitation', 'to', 'tender', 'a', 'minimum', 'selling', 'price', 'shall', 'be', 'fixed', 'for', 'butter', 'and', 'maximum', 'aid', 'shall', 'be', 'fixed', 'for', 'cream,', 'butter', 'and', 'concentrated', 'butter.', 'Nach', 'Artikel', '18', 'der', 'genannten', 'Verordnung', 'werden', 'aufgrund', 'der', 'auf', 'jede', 'Einzelausschreibung', 'eingegangenen', 'Angebote', 'ein', 'Mindestverkaufspreis', 'für', 'Butter', 'sowie', 'ein', 'Beihilfehöchstbetrag', 'für', 'Rahm,', 'Butter', 'und', 'Butterfett', 'festgesetzt,', 'oder', 'es', 'wird', 'beschlossen,', 'der', 'Ausschreibung', 'keine', 'Folge', 'zu', 'leisten.']\n",
      "['It', 'is', 'further', 'stipulated', 'that', 'the', 'price', 'or', 'aid', 'may', 'vary', 'according', 'to', 'the', 'intended', 'use', 'of', 'the', 'butter,', 'its', 'fat', 'content', 'and', 'the', 'incorporation', 'procedure,', 'and', 'that', 'a', 'decision', 'may', 'also', 'be', 'taken', 'to', 'make', 'no', 'award', 'in', 'response', 'to', 'the', 'tenders', 'submitted.', 'Der', 'genannte', 'Mindestverkaufspreis', 'und', 'der', 'betreffende', 'Beihilfehöchstbetrag', 'können', 'je', 'nach', 'Verwendungszweck,', 'Milchfettgehalt', 'der', 'Butter', 'und', 'Verarbeitungsweise', 'differenziert', 'werden.']\n",
      "['The', 'amount(s)', 'of', 'the', 'processing', 'securities', 'must', 'be', 'fixed', 'accordingly.', 'Die', 'Höhe', 'der', 'Verarbeitungssicherheit(en)', 'ist', 'entsprechend', 'festzulegen.']\n"
     ]
    }
   ],
   "source": [
    "wordAlignmentFile = open(\"./Data/Ass6/EN-DE.txt\",'r+')\n",
    "c = 0\n",
    "for sentencePair in wordAlignmentFile:\n",
    "  splittedData = sentencePair.split()\n",
    "  n = len(splittedData)\n",
    "  removedTail = splittedData[:n-14]\n",
    "  print(removedTail)\n",
    "  c += 1\n",
    "  if(c>10):\n",
    "    break"
   ]
  },
  {
   "cell_type": "markdown",
   "id": "bc8b4a44",
   "metadata": {},
   "source": [
    "### Reading Reverse Dictonary Data"
   ]
  },
  {
   "cell_type": "code",
   "execution_count": 45,
   "id": "ba8c5b92",
   "metadata": {},
   "outputs": [
    {
     "name": "stdout",
     "output_type": "stream",
     "text": [
      "              Word Count      POS  \\\n",
      "0                A     1       \"\"   \n",
      "1                A     1       \"\"   \n",
      "2                A     1       \"\"   \n",
      "3                A     1       \"\"   \n",
      "4                A     1  \"prep.\"   \n",
      "...            ...   ...      ...   \n",
      "176004     Zymotic     7     \"a.\"   \n",
      "176005     Zymotic     7     \"a.\"   \n",
      "176006      Zythem     6     \"n.\"   \n",
      "176007  Zythepsary    10     \"n.\"   \n",
      "176008      Zythum     6     \"n.\"   \n",
      "\n",
      "                                               Definition  \n",
      "0       \"The first letter of the English and of many o...  \n",
      "1       \"The name of the sixth tone in the model major...  \n",
      "2       \"An adjective  commonly called the indefinite ...  \n",
      "3       \"In each; to or for each; as  \"\"\"\"twenty leagu...  \n",
      "4                                       \"In; on; at; by.\"  \n",
      "...                                                   ...  \n",
      "176004     \"Of  pertaining to or caused by fermentation.\"  \n",
      "176005  \"Designating  or pertaining to a certain class...  \n",
      "176006                                      \"See Zythum.\"  \n",
      "176007                                       \"A brewery.\"  \n",
      "176008  \"A kind of ancient malt beverage; a liquor mad...  \n",
      "\n",
      "[176009 rows x 4 columns]\n"
     ]
    }
   ],
   "source": [
    "dictonaryPath = \"./Data/Ass6/EnglishDictionary.csv\"\n",
    "dictonaryEN_DE = pd.read_csv(dictonaryPath)\n",
    "print(dictonaryEN_DE)"
   ]
  },
  {
   "cell_type": "code",
   "execution_count": null,
   "id": "9f60ee26",
   "metadata": {},
   "outputs": [],
   "source": []
  }
 ],
 "metadata": {
  "kernelspec": {
   "display_name": "Python 3 (ipykernel)",
   "language": "python",
   "name": "python3"
  },
  "language_info": {
   "codemirror_mode": {
    "name": "ipython",
    "version": 3
   },
   "file_extension": ".py",
   "mimetype": "text/x-python",
   "name": "python",
   "nbconvert_exporter": "python",
   "pygments_lexer": "ipython3",
   "version": "3.10.6"
  }
 },
 "nbformat": 4,
 "nbformat_minor": 5
}
